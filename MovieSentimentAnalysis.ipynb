{
  "nbformat": 4,
  "nbformat_minor": 0,
  "metadata": {
    "colab": {
      "name": "MovieSentimentAnalysis.ipynb",
      "provenance": [],
      "collapsed_sections": []
    },
    "kernelspec": {
      "display_name": "Python 3",
      "name": "python3"
    },
    "language_info": {
      "name": "python"
    }
  },
  "cells": [
    {
      "cell_type": "code",
      "metadata": {
        "colab": {
          "base_uri": "https://localhost:8080/"
        },
        "id": "n2cA81g-Er6A",
        "outputId": "594edb6f-79df-44fd-e76c-1a7c34557a46"
      },
      "source": [
        "from google.colab import drive\n",
        "drive.mount('/content/drive')"
      ],
      "execution_count": 150,
      "outputs": [
        {
          "output_type": "stream",
          "text": [
            "Drive already mounted at /content/drive; to attempt to forcibly remount, call drive.mount(\"/content/drive\", force_remount=True).\n"
          ],
          "name": "stdout"
        }
      ]
    },
    {
      "cell_type": "code",
      "metadata": {
        "colab": {
          "base_uri": "https://localhost:8080/"
        },
        "id": "m-ZE07n8FLEm",
        "outputId": "6f285554-28db-469c-f220-59252596ca5b"
      },
      "source": [
        "!unzip 'IMDB Dataset.csv.zip' "
      ],
      "execution_count": 158,
      "outputs": [
        {
          "output_type": "stream",
          "text": [
            "Archive:  IMDB Dataset.csv.zip\n",
            "replace IMDB Dataset.csv? [y]es, [n]o, [A]ll, [N]one, [r]ename: n\n"
          ],
          "name": "stdout"
        }
      ]
    },
    {
      "cell_type": "code",
      "metadata": {
        "id": "nrX_w2-FF1J2"
      },
      "source": [
        "import pandas as pd\n",
        "import numpy as np\n",
        "import matplotlib.pyplot as plt\n",
        "import seaborn as sns\n",
        "import tensorflow as tf\n",
        "import keras \n",
        "import nltk \n",
        "import re\n",
        "\n",
        "from nltk.corpus import stopwords\n",
        "from numpy import array\n",
        "from keras.preprocessing.text import one_hot\n",
        "from keras.preprocessing.sequence import pad_sequences\n",
        "from keras.models import Sequential\n",
        "from keras.layers.core import Activation, Dense, Dropout\n",
        "from keras.layers import Flatten, GlobalMaxPooling1D\n",
        "from keras.layers.embeddings import Embedding\n",
        "from sklearn.model_selection import train_test_split"
      ],
      "execution_count": 159,
      "outputs": []
    },
    {
      "cell_type": "code",
      "metadata": {
        "id": "G64xY5XLFl7R",
        "colab": {
          "base_uri": "https://localhost:8080/"
        },
        "outputId": "22722ec1-86cf-4b87-9c26-3411ff2f8b52"
      },
      "source": [
        "data = pd.read_csv('IMDB Dataset.csv')\n",
        "data.isnull().values.any()"
      ],
      "execution_count": 160,
      "outputs": [
        {
          "output_type": "execute_result",
          "data": {
            "text/plain": [
              "False"
            ]
          },
          "metadata": {
            "tags": []
          },
          "execution_count": 160
        }
      ]
    },
    {
      "cell_type": "code",
      "metadata": {
        "id": "RHeo8PRiFyAT",
        "colab": {
          "base_uri": "https://localhost:8080/",
          "height": 424
        },
        "outputId": "17fc0c04-ef5d-4537-c2df-4ac4af28954c"
      },
      "source": [
        "data"
      ],
      "execution_count": 161,
      "outputs": [
        {
          "output_type": "execute_result",
          "data": {
            "text/html": [
              "<div>\n",
              "<style scoped>\n",
              "    .dataframe tbody tr th:only-of-type {\n",
              "        vertical-align: middle;\n",
              "    }\n",
              "\n",
              "    .dataframe tbody tr th {\n",
              "        vertical-align: top;\n",
              "    }\n",
              "\n",
              "    .dataframe thead th {\n",
              "        text-align: right;\n",
              "    }\n",
              "</style>\n",
              "<table border=\"1\" class=\"dataframe\">\n",
              "  <thead>\n",
              "    <tr style=\"text-align: right;\">\n",
              "      <th></th>\n",
              "      <th>review</th>\n",
              "      <th>sentiment</th>\n",
              "    </tr>\n",
              "  </thead>\n",
              "  <tbody>\n",
              "    <tr>\n",
              "      <th>0</th>\n",
              "      <td>One of the other reviewers has mentioned that ...</td>\n",
              "      <td>positive</td>\n",
              "    </tr>\n",
              "    <tr>\n",
              "      <th>1</th>\n",
              "      <td>A wonderful little production. &lt;br /&gt;&lt;br /&gt;The...</td>\n",
              "      <td>positive</td>\n",
              "    </tr>\n",
              "    <tr>\n",
              "      <th>2</th>\n",
              "      <td>I thought this was a wonderful way to spend ti...</td>\n",
              "      <td>positive</td>\n",
              "    </tr>\n",
              "    <tr>\n",
              "      <th>3</th>\n",
              "      <td>Basically there's a family where a little boy ...</td>\n",
              "      <td>negative</td>\n",
              "    </tr>\n",
              "    <tr>\n",
              "      <th>4</th>\n",
              "      <td>Petter Mattei's \"Love in the Time of Money\" is...</td>\n",
              "      <td>positive</td>\n",
              "    </tr>\n",
              "    <tr>\n",
              "      <th>...</th>\n",
              "      <td>...</td>\n",
              "      <td>...</td>\n",
              "    </tr>\n",
              "    <tr>\n",
              "      <th>49995</th>\n",
              "      <td>I thought this movie did a down right good job...</td>\n",
              "      <td>positive</td>\n",
              "    </tr>\n",
              "    <tr>\n",
              "      <th>49996</th>\n",
              "      <td>Bad plot, bad dialogue, bad acting, idiotic di...</td>\n",
              "      <td>negative</td>\n",
              "    </tr>\n",
              "    <tr>\n",
              "      <th>49997</th>\n",
              "      <td>I am a Catholic taught in parochial elementary...</td>\n",
              "      <td>negative</td>\n",
              "    </tr>\n",
              "    <tr>\n",
              "      <th>49998</th>\n",
              "      <td>I'm going to have to disagree with the previou...</td>\n",
              "      <td>negative</td>\n",
              "    </tr>\n",
              "    <tr>\n",
              "      <th>49999</th>\n",
              "      <td>No one expects the Star Trek movies to be high...</td>\n",
              "      <td>negative</td>\n",
              "    </tr>\n",
              "  </tbody>\n",
              "</table>\n",
              "<p>50000 rows × 2 columns</p>\n",
              "</div>"
            ],
            "text/plain": [
              "                                                  review sentiment\n",
              "0      One of the other reviewers has mentioned that ...  positive\n",
              "1      A wonderful little production. <br /><br />The...  positive\n",
              "2      I thought this was a wonderful way to spend ti...  positive\n",
              "3      Basically there's a family where a little boy ...  negative\n",
              "4      Petter Mattei's \"Love in the Time of Money\" is...  positive\n",
              "...                                                  ...       ...\n",
              "49995  I thought this movie did a down right good job...  positive\n",
              "49996  Bad plot, bad dialogue, bad acting, idiotic di...  negative\n",
              "49997  I am a Catholic taught in parochial elementary...  negative\n",
              "49998  I'm going to have to disagree with the previou...  negative\n",
              "49999  No one expects the Star Trek movies to be high...  negative\n",
              "\n",
              "[50000 rows x 2 columns]"
            ]
          },
          "metadata": {
            "tags": []
          },
          "execution_count": 161
        }
      ]
    },
    {
      "cell_type": "code",
      "metadata": {
        "id": "siHiJocXgPpl",
        "colab": {
          "base_uri": "https://localhost:8080/",
          "height": 297
        },
        "outputId": "596f74b5-c517-424f-919e-9ec06286d9d1"
      },
      "source": [
        "import seaborn as sns\n",
        "sns.countplot(x=\"sentiment\", data=data)"
      ],
      "execution_count": 162,
      "outputs": [
        {
          "output_type": "execute_result",
          "data": {
            "text/plain": [
              "<matplotlib.axes._subplots.AxesSubplot at 0x7fcf587ff350>"
            ]
          },
          "metadata": {
            "tags": []
          },
          "execution_count": 162
        },
        {
          "output_type": "display_data",
          "data": {
            "image/png": "[encoded data removed]",
            "text/plain": [
              "<Figure size 432x288 with 1 Axes>"
            ]
          },
          "metadata": {
            "tags": [],
            "needs_background": "light"
          }
        }
      ]
    },
    {
      "cell_type": "code",
      "metadata": {
        "id": "YLpauZjHKKCh",
        "colab": {
          "base_uri": "https://localhost:8080/",
          "height": 127
        },
        "outputId": "ef2a8b0f-1b86-4e9c-e9fc-d966c2975e10"
      },
      "source": [
        "data[\"review\"][2]"
      ],
      "execution_count": 163,
      "outputs": [
        {
          "output_type": "execute_result",
          "data": {
            "application/vnd.google.colaboratory.intrinsic+json": {
              "type": "string"
            },
            "text/plain": [
              "'I thought this was a wonderful way to spend time on a too hot summer weekend, sitting in the air conditioned theater and watching a light-hearted comedy. The plot is simplistic, but the dialogue is witty and the characters are likable (even the well bread suspected serial killer). While some may be disappointed when they realize this is not Match Point 2: Risk Addiction, I thought it was proof that Woody Allen is still fully in control of the style many of us have grown to love.<br /><br />This was the most I\\'d laughed at one of Woody\\'s comedies in years (dare I say a decade?). While I\\'ve never been impressed with Scarlet Johanson, in this she managed to tone down her \"sexy\" image and jumped right into a average, but spirited young woman.<br /><br />This may not be the crown jewel of his career, but it was wittier than \"Devil Wears Prada\" and more interesting than \"Superman\" a great comedy to go see with friends.'"
            ]
          },
          "metadata": {
            "tags": []
          },
          "execution_count": 163
        }
      ]
    },
    {
      "cell_type": "code",
      "metadata": {
        "id": "WAQoKHP_h0s6"
      },
      "source": [
        "def preprocess_text(sen):\n",
        "  sentence = remove_tag(sen)\n",
        "  sentence = re.sub('[^a-zA-Z]', ' ', sentence)\n",
        "  sentence = re.sub(r\"\\s+[a-zA-Z]\\s+\", ' ', sentence)\n",
        "  sentence = re.sub(r'\\s+', ' ', sentence)\n",
        "\n",
        "  return sentence"
      ],
      "execution_count": 164,
      "outputs": []
    },
    {
      "cell_type": "code",
      "metadata": {
        "id": "zKkF1AU60Vvu"
      },
      "source": [
        "Tags = re.compile(r'<[^>]+>')\n",
        "\n",
        "def remove_tag(text):\n",
        "  return Tags.sub('',text)"
      ],
      "execution_count": 165,
      "outputs": []
    },
    {
      "cell_type": "code",
      "metadata": {
        "id": "FyONI4-S6EsX"
      },
      "source": [
        "X = []\n",
        "sentences = list(data['review'])"
      ],
      "execution_count": 166,
      "outputs": []
    },
    {
      "cell_type": "code",
      "metadata": {
        "id": "0ky3F-BT8msE"
      },
      "source": [
        "for sen in sentences:\n",
        "  X.append(preprocess_text(sen))"
      ],
      "execution_count": 167,
      "outputs": []
    },
    {
      "cell_type": "code",
      "metadata": {
        "id": "EpO0OTkVyqdC",
        "colab": {
          "base_uri": "https://localhost:8080/"
        },
        "outputId": "e380b114-da35-4438-fe64-ec55806191ae"
      },
      "source": [
        "import nltk\n",
        "nltk.download('stopwords')"
      ],
      "execution_count": 168,
      "outputs": [
        {
          "output_type": "stream",
          "text": [
            "[nltk_data] Downloading package stopwords to /root/nltk_data...\n",
            "[nltk_data]   Package stopwords is already up-to-date!\n"
          ],
          "name": "stdout"
        },
        {
          "output_type": "execute_result",
          "data": {
            "text/plain": [
              "True"
            ]
          },
          "metadata": {
            "tags": []
          },
          "execution_count": 168
        }
      ]
    },
    {
      "cell_type": "code",
      "metadata": {
        "id": "TUEC9w1XAzer",
        "colab": {
          "base_uri": "https://localhost:8080/",
          "height": 127
        },
        "outputId": "661ba26f-d373-4417-832b-e735a45cdd8d"
      },
      "source": [
        "X[2]"
      ],
      "execution_count": 169,
      "outputs": [
        {
          "output_type": "execute_result",
          "data": {
            "application/vnd.google.colaboratory.intrinsic+json": {
              "type": "string"
            },
            "text/plain": [
              "'I thought this was wonderful way to spend time on too hot summer weekend sitting in the air conditioned theater and watching light hearted comedy The plot is simplistic but the dialogue is witty and the characters are likable even the well bread suspected serial killer While some may be disappointed when they realize this is not Match Point Risk Addiction thought it was proof that Woody Allen is still fully in control of the style many of us have grown to love This was the most d laughed at one of Woody comedies in years dare say decade While ve never been impressed with Scarlet Johanson in this she managed to tone down her sexy image and jumped right into average but spirited young woman This may not be the crown jewel of his career but it was wittier than Devil Wears Prada and more interesting than Superman great comedy to go see with friends '"
            ]
          },
          "metadata": {
            "tags": []
          },
          "execution_count": 169
        }
      ]
    },
    {
      "cell_type": "code",
      "metadata": {
        "id": "dlxsW_wZBHM4"
      },
      "source": [
        "Y = data['sentiment']\n",
        "Y = np.array(list(map(lambda x: 1 if x=='positive' else 0, Y)))"
      ],
      "execution_count": 170,
      "outputs": []
    },
    {
      "cell_type": "code",
      "metadata": {
        "id": "pvx9hl5XBjrI"
      },
      "source": [
        "x_train,x_test,y_train,y_test = train_test_split(X,Y,test_size=0.2, random_state=42) "
      ],
      "execution_count": 171,
      "outputs": []
    },
    {
      "cell_type": "code",
      "metadata": {
        "id": "2OvMlPK2DXCQ",
        "colab": {
          "base_uri": "https://localhost:8080/"
        },
        "outputId": "a135f7a5-58c8-486e-e363-7a3ba0327d94"
      },
      "source": [
        "len(x_train)"
      ],
      "execution_count": 172,
      "outputs": [
        {
          "output_type": "execute_result",
          "data": {
            "text/plain": [
              "40000"
            ]
          },
          "metadata": {
            "tags": []
          },
          "execution_count": 172
        }
      ]
    },
    {
      "cell_type": "code",
      "metadata": {
        "id": "DO-ZI-YpED1R"
      },
      "source": [
        "tokenizer = keras.preprocessing.text.Tokenizer(num_words = 5000)\n",
        "tokenizer.fit_on_texts(x_train)\n",
        "\n",
        "x_train = tokenizer.texts_to_sequences(x_train)\n",
        "x_test = tokenizer.texts_to_sequences(x_test)"
      ],
      "execution_count": 173,
      "outputs": []
    },
    {
      "cell_type": "code",
      "metadata": {
        "id": "STby4cprhRW8"
      },
      "source": [
        "vocab_size = len(tokenizer.word_index)+1\n",
        "maxlen = 100\n",
        "\n",
        "x_train = pad_sequences(x_train, maxlen=100, padding='post')\n",
        "x_test = pad_sequences(x_test, maxlen=100, padding='post')"
      ],
      "execution_count": 174,
      "outputs": []
    },
    {
      "cell_type": "code",
      "metadata": {
        "id": "HQqfLwu5EmUP"
      },
      "source": [
        "from numpy import zeros\n",
        "from numpy import asarray\n",
        "from numpy import array\n",
        "import zipfile "
      ],
      "execution_count": 175,
      "outputs": []
    },
    {
      "cell_type": "code",
      "metadata": {
        "id": "Q3xTbqLObjuF",
        "colab": {
          "base_uri": "https://localhost:8080/"
        },
        "outputId": "70dd96b1-b952-4a77-878b-ef0a62a5241a"
      },
      "source": [
        "ls"
      ],
      "execution_count": 176,
      "outputs": [
        {
          "output_type": "stream",
          "text": [
            " archive.zip        'IMDB Dataset.csv'       kaggle.json   \u001b[0m\u001b[01;34msaved_model\u001b[0m/\n",
            " glove.6B.100d.txt  'IMDB Dataset.csv.zip'   \u001b[01;34mLSTM_model\u001b[0m/\n"
          ],
          "name": "stdout"
        }
      ]
    },
    {
      "cell_type": "code",
      "metadata": {
        "id": "V7wUZK-5hv-K",
        "colab": {
          "base_uri": "https://localhost:8080/"
        },
        "outputId": "bfbeda4b-13d7-42fb-9273-1bad251b7269"
      },
      "source": [
        "!unzip 'archive.zip' "
      ],
      "execution_count": 177,
      "outputs": [
        {
          "output_type": "stream",
          "text": [
            "Archive:  archive.zip\n",
            "replace glove.6B.100d.txt? [y]es, [n]o, [A]ll, [N]one, [r]ename: n\n"
          ],
          "name": "stdout"
        }
      ]
    },
    {
      "cell_type": "code",
      "metadata": {
        "id": "iB7JhTWenBpc",
        "colab": {
          "base_uri": "https://localhost:8080/"
        },
        "outputId": "ec5dc5b7-df79-417c-fe45-205f0de734a7"
      },
      "source": [
        "ls"
      ],
      "execution_count": 178,
      "outputs": [
        {
          "output_type": "stream",
          "text": [
            " archive.zip        'IMDB Dataset.csv'       kaggle.json   \u001b[0m\u001b[01;34msaved_model\u001b[0m/\n",
            " glove.6B.100d.txt  'IMDB Dataset.csv.zip'   \u001b[01;34mLSTM_model\u001b[0m/\n"
          ],
          "name": "stdout"
        }
      ]
    },
    {
      "cell_type": "code",
      "metadata": {
        "id": "ntzCeKa-igK0"
      },
      "source": [
        "glove_file = open('glove.6B.100d.txt', encoding='utf8')\n",
        "embedding_dict = dict()\n",
        "\n",
        "for line in glove_file:\n",
        "  record = line.split()\n",
        "  word = record[0]\n",
        "  vector_dimensions = asarray(record[1:], dtype='float32')\n",
        "  embedding_dict[word] = vector_dimensions\n",
        "glove_file.close()"
      ],
      "execution_count": 179,
      "outputs": []
    },
    {
      "cell_type": "code",
      "metadata": {
        "id": "LymlsXfGjHWz"
      },
      "source": [
        "embedding_matrix = zeros((vocab_size, 100))\n",
        "for word, index in tokenizer.word_index.items():\n",
        "    embedding_vector = embedding_dict.get(word)\n",
        "    if embedding_vector is not None:\n",
        "        embedding_matrix[index] = embedding_vector"
      ],
      "execution_count": 180,
      "outputs": []
    },
    {
      "cell_type": "code",
      "metadata": {
        "id": "8UPgZ7G67JyI"
      },
      "source": [
        "from keras.layers.recurrent import LSTM\n",
        "model = Sequential()\n",
        "embedding_layer = Embedding(vocab_size, 100, weights=[embedding_matrix], input_length=maxlen , trainable=False)\n",
        "model.add(embedding_layer)\n",
        "model.add(LSTM(128))\n",
        "\n",
        "model.add(Dense(1, activation='sigmoid'))\n",
        "model.compile(optimizer='adam', loss='binary_crossentropy', metrics=['acc'])"
      ],
      "execution_count": 181,
      "outputs": []
    },
    {
      "cell_type": "code",
      "metadata": {
        "colab": {
          "base_uri": "https://localhost:8080/"
        },
        "id": "7cDDhjpKIlFP",
        "outputId": "e59876c2-935a-431f-98fa-9f2c38f22368"
      },
      "source": [
        "!mkdir -p saved_model\n",
        "model.save('LSTM_model') "
      ],
      "execution_count": 182,
      "outputs": [
        {
          "output_type": "stream",
          "text": [
            "INFO:tensorflow:Assets written to: LSTM_model/assets\n"
          ],
          "name": "stdout"
        }
      ]
    },
    {
      "cell_type": "code",
      "metadata": {
        "id": "qU8mOBuS4s24",
        "colab": {
          "base_uri": "https://localhost:8080/"
        },
        "outputId": "daaf7234-820b-41a7-c3b6-ed2f2fbb4f44"
      },
      "source": [
        "model.compile(optimizer='adam', loss='binary_crossentropy', metrics=['acc'])\n",
        "history = model.fit(x_train, y_train, batch_size=128, epochs=10, verbose=1, validation_split=0.2)"
      ],
      "execution_count": 183,
      "outputs": [
        {
          "output_type": "stream",
          "text": [
            "Epoch 1/10\n",
            "250/250 [==============================] - 90s 349ms/step - loss: 0.6134 - acc: 0.6373 - val_loss: 0.4524 - val_acc: 0.7886\n",
            "Epoch 2/10\n",
            "250/250 [==============================] - 87s 346ms/step - loss: 0.4668 - acc: 0.7818 - val_loss: 0.3927 - val_acc: 0.8215\n",
            "Epoch 3/10\n",
            "250/250 [==============================] - 86s 346ms/step - loss: 0.3988 - acc: 0.8178 - val_loss: 0.3832 - val_acc: 0.8355\n",
            "Epoch 4/10\n",
            "250/250 [==============================] - 86s 345ms/step - loss: 0.3628 - acc: 0.8398 - val_loss: 0.3645 - val_acc: 0.8394\n",
            "Epoch 5/10\n",
            "250/250 [==============================] - 87s 347ms/step - loss: 0.3419 - acc: 0.8492 - val_loss: 0.3518 - val_acc: 0.8508\n",
            "Epoch 6/10\n",
            "250/250 [==============================] - 86s 346ms/step - loss: 0.3145 - acc: 0.8669 - val_loss: 0.3395 - val_acc: 0.8546\n",
            "Epoch 7/10\n",
            "250/250 [==============================] - 87s 347ms/step - loss: 0.2955 - acc: 0.8751 - val_loss: 0.3352 - val_acc: 0.8550\n",
            "Epoch 8/10\n",
            "250/250 [==============================] - 87s 347ms/step - loss: 0.2806 - acc: 0.8809 - val_loss: 0.3301 - val_acc: 0.8572\n",
            "Epoch 9/10\n",
            "250/250 [==============================] - 87s 348ms/step - loss: 0.2681 - acc: 0.8820 - val_loss: 0.3402 - val_acc: 0.8539\n",
            "Epoch 10/10\n",
            "250/250 [==============================] - 87s 348ms/step - loss: 0.2520 - acc: 0.8958 - val_loss: 0.3515 - val_acc: 0.8506\n"
          ],
          "name": "stdout"
        }
      ]
    },
    {
      "cell_type": "code",
      "metadata": {
        "id": "ft5qGhu45NT5",
        "colab": {
          "base_uri": "https://localhost:8080/"
        },
        "outputId": "76d464cb-ddf4-477c-ee8f-c811d695d831"
      },
      "source": [
        "score = model.evaluate(x_test, y_test, verbose=1)"
      ],
      "execution_count": 206,
      "outputs": [
        {
          "output_type": "stream",
          "text": [
            "313/313 [==============================] - 10s 32ms/step - loss: 0.3479 - acc: 0.8503\n"
          ],
          "name": "stdout"
        }
      ]
    },
    {
      "cell_type": "code",
      "metadata": {
        "id": "4Pzzvpzr-Nd1",
        "colab": {
          "base_uri": "https://localhost:8080/"
        },
        "outputId": "c9c5e06c-d01d-4ce5-df17-ed916104dddd"
      },
      "source": [
        "print(\"Test Score:\", score[0])\n",
        "print(\"Test Accuracy:\", score[1])"
      ],
      "execution_count": 207,
      "outputs": [
        {
          "output_type": "stream",
          "text": [
            "Test Score: 0.34789636731147766\n",
            "Test Accuracy: 0.8503000140190125\n"
          ],
          "name": "stdout"
        }
      ]
    },
    {
      "cell_type": "code",
      "metadata": {
        "id": "ghOIWro6-WEG",
        "colab": {
          "base_uri": "https://localhost:8080/",
          "height": 573
        },
        "outputId": "c18da9de-c0bb-44f4-8953-b6491ab9b00b"
      },
      "source": [
        "plt.plot(history.history['acc'])\n",
        "plt.plot(history.history['val_acc'])\n",
        "\n",
        "plt.title('model accuracy')\n",
        "plt.ylabel('accuracy')\n",
        "plt.xlabel('epoch')\n",
        "plt.legend(['train','test'], loc='upper left')\n",
        "plt.show()\n",
        "\n",
        "plt.plot(history.history['loss'])\n",
        "plt.plot(history.history['val_loss'])\n",
        "\n",
        "plt.title('model loss')\n",
        "plt.ylabel('loss')\n",
        "plt.xlabel('epoch')\n",
        "plt.legend(['train','test'], loc='upper left')\n",
        "plt.show()"
      ],
      "execution_count": 208,
      "outputs": [
        {
          "output_type": "display_data",
          "data": {
            "image/png": "[encoded data removed]",
            "text/plain": [
              "<Figure size 432x288 with 1 Axes>"
            ]
          },
          "metadata": {
            "tags": [],
            "needs_background": "light"
          }
        },
        {
          "output_type": "display_data",
          "data": {
            "image/png": "[encoded data removed]",
            "text/plain": [
              "<Figure size 432x288 with 1 Axes>"
            ]
          },
          "metadata": {
            "tags": [],
            "needs_background": "light"
          }
        }
      ]
    },
    {
      "cell_type": "code",
      "metadata": {
        "id": "QUGf-mIZ-cs-",
        "colab": {
          "base_uri": "https://localhost:8080/"
        },
        "outputId": "bd7478a0-ca39-438c-bbf2-1173e6fc7889"
      },
      "source": [
        "instance = X[3]\n",
        "print(instance)"
      ],
      "execution_count": 231,
      "outputs": [
        {
          "output_type": "stream",
          "text": [
            "Basically there a family where little boy Jake thinks there a zombie in his closet his parents are fighting all the time This movie is slower than soap opera and suddenly Jake decides to become Rambo and kill the zombie OK first of all when you re going to make film you must Decide if its thriller or drama As drama the movie is watchable Parents are divorcing arguing like in real life And then we have Jake with his closet which totally ruins all the film expected to see BOOGEYMAN similar movie and instead watched drama with some meaningless thriller spots out of just for the well playing parents descent dialogs As for the shots with Jake just ignore them \n"
          ],
          "name": "stdout"
        }
      ]
    },
    {
      "cell_type": "code",
      "metadata": {
        "id": "LxAZjR2O-lXE",
        "colab": {
          "base_uri": "https://localhost:8080/"
        },
        "outputId": "ca23bd57-2602-4a8d-d29b-1f5474d9566b"
      },
      "source": [
        "instance = tokenizer.texts_to_sequences(instance)\n",
        "flat_list = []\n",
        "for sublist in instance:\n",
        "    for item in sublist:\n",
        "        flat_list.append(item)\n",
        "\n",
        "flat_list = [flat_list]\n",
        "\n",
        "instance = pad_sequences(flat_list, padding='post', maxlen=maxlen)\n",
        "x = model.predict(instance)\n",
        "if x>0.5:\n",
        "  ans = \"Positive\" \n",
        "else:\n",
        "   ans = \"Negative\"\n",
        "print(x)\n",
        "print(ans)"
      ],
      "execution_count": 232,
      "outputs": [
        {
          "output_type": "stream",
          "text": [
            "[[0.2803902]]\n",
            "Negative\n"
          ],
          "name": "stdout"
        }
      ]
    },
    {
      "cell_type": "code",
      "metadata": {
        "id": "xvoP6K64C177"
      },
      "source": [
        ""
      ],
      "execution_count": 188,
      "outputs": []
    }
  ]
}